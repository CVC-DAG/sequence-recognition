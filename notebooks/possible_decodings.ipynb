{
 "cells": [
  {
   "cell_type": "code",
   "execution_count": 3,
   "metadata": {},
   "outputs": [],
   "source": [
    "import numpy as np\n",
    "\n",
    "transcript_length = 60\n",
    "available_length = 100\n"
   ]
  },
  {
   "cell_type": "markdown",
   "metadata": {},
   "source": [
    "Apparently, the number of paths of length $\\ell$ from node $m$ to $n$ can be\n",
    "computed by using the adjacency matrix $A$ of the graph:\n",
    "\n",
    "$$ N_\\ell (m, n) = A^\\ell_{m, n} $$\n",
    "\n",
    "Using the CTC output format, the adjacency matrix of the graph representing\n",
    "character transitions are upper triangular matrices roughly of the form\n",
    "\n",
    "$$ \\begin{pmatrix} 1 & 1 & 0 & 0 \\\\ 0 & 1 & 1 & 1\\\\ 0 & 0 & 1 & 1 \\\\ 0 & 0 & 0 & 1 \\end{pmatrix} $$\n",
    "\n",
    "(except in those cases where there is a blank -- there is no skip transition\n",
    "to the second next character then)."
   ]
  },
  {
   "cell_type": "code",
   "execution_count": 13,
   "metadata": {},
   "outputs": [],
   "source": [
    "def get_adjacency_matrix(seqlen: int):\n",
    "    mat = np.ones((2 * seqlen + 1, 2 * seqlen + 1))\n",
    "    mat = np.triu(mat)\n",
    "    mat = np.tril(mat, 3)\n",
    "\n",
    "    diag = np.arange(0, mat.shape[0] - 2, 2)\n",
    "    mat[diag, diag+2] = 0\n",
    "\n",
    "    return mat\n",
    "\n",
    "A = get_adjacency_matrix(transcript_length)"
   ]
  },
  {
   "cell_type": "code",
   "execution_count": 34,
   "metadata": {},
   "outputs": [
    {
     "data": {
      "text/plain": [
       "5.204013246670726e+52"
      ]
     },
     "execution_count": 34,
     "metadata": {},
     "output_type": "execute_result"
    }
   ],
   "source": [
    "from numpy import linalg as la\n",
    "\n",
    "\n",
    "la.matrix_power(A, available_length)[1, -2]"
   ]
  },
  {
   "cell_type": "code",
   "execution_count": 38,
   "metadata": {},
   "outputs": [
    {
     "data": {
      "text/plain": [
       "10941898033541933700100"
      ]
     },
     "execution_count": 38,
     "metadata": {},
     "output_type": "execute_result"
    }
   ],
   "source": [
    "k = available_length - transcript_length\n",
    "t = available_length\n",
    "(3 ** (k + 2) - 2 ** (k + 3)) * t"
   ]
  },
  {
   "cell_type": "code",
   "execution_count": 35,
   "metadata": {},
   "outputs": [
    {
     "data": {
      "text/plain": [
       "6.073973740858229e+40"
      ]
     },
     "execution_count": 35,
     "metadata": {},
     "output_type": "execute_result"
    }
   ],
   "source": [
    "def get_simp_adjacency_matrix(seqlen: int):\n",
    "    mat = np.ones((seqlen, seqlen))\n",
    "    mat = np.triu(mat)\n",
    "    mat = np.tril(mat, 2)\n",
    "\n",
    "    return mat\n",
    "B = get_simp_adjacency_matrix(transcript_length)\n",
    "la.matrix_power(B, available_length)[0, -1]"
   ]
  },
  {
   "cell_type": "code",
   "execution_count": 53,
   "metadata": {},
   "outputs": [
    {
     "data": {
      "text/plain": [
       "array([35, 30, 36, 46, 18,  2, 19, 34,  2, 23, 43, 49, 21, 38, 40, 30, 29,\n",
       "       23,  7,  6,  6, 25, 23,  2, 45, 36, 13,  1,  1,  2, 11, 30,  9, 30,\n",
       "       40, 44])"
      ]
     },
     "execution_count": 53,
     "metadata": {},
     "output_type": "execute_result"
    }
   ],
   "source": [
    "def random_ctc_output(seqlen: int, nclasses: int, batch: int=1):\n",
    "    A = np.random.rand(batch, seqlen, nclasses)\n",
    "    expA = np.exp(A)\n",
    "    A = expA / expA.sum(axis=-1)[:,:,None]\n",
    "    return A\n",
    "\n",
    "def random_ctc_gt(seqlen: int, nclasses: int, batch: int=1):\n",
    "    Y = np.random.randint(0, nclasses + 1, (batch, seqlen))\n",
    "    lengths = np.random.normal(seqlen / 2, seqlen / 10, (batch,)).astype(int)\n",
    "\n",
    "    return Y, lengths\n",
    "\n",
    "\n",
    "ctc_out = random_ctc_output(100, 50, 1)\n",
    "\n",
    "ctc_gt, ctc_gt_lengths = random_ctc_gt(60, 50, 1)\n",
    "ctc_gt[0,:ctc_gt_lengths[0]]"
   ]
  },
  {
   "cell_type": "code",
   "execution_count": 59,
   "metadata": {},
   "outputs": [],
   "source": [
    "from numpy.typing import ArrayLike\n",
    "from typing import List\n",
    "\n",
    "class Beam:\n",
    "    def __init__(\n",
    "            self,\n",
    "            out_index: int,\n",
    "            dec_indices: List,\n",
    "            score: float,\n",
    "    ) -> None:\n",
    "        self._out_index: int = out_index\n",
    "        self._dec_indices: List = dec_indices\n",
    "        self._score: float = score\n",
    "\n",
    "    def get_score(\n",
    "            self,\n",
    "    ) -> float:\n",
    "        return self._score\n",
    "\n",
    "\n",
    "def expand_beam(\n",
    "        beam: Beam,\n",
    "        probs: ArrayLike,\n",
    "        transcript: ArrayLike\n",
    "    ) -> List[Beam]:\n",
    "    output = []\n",
    "\n",
    "    output.append(Beam(\n",
    "        beam._out_index,\n",
    "        beam._dec_indices + [0],\n",
    "        beam._score + np.log(probs[0]),\n",
    "    ))\n",
    "\n",
    "    output.append(Beam(\n",
    "        beam._out_index,\n",
    "        beam._dec_indices + [transcript[beam._out_index]],\n",
    "        beam._score + np.log(probs[transcript[beam._out_index]]\n",
    "    ))\n",
    "\n",
    "# def decode(matrix: ArrayLike, target: ArrayLike) -> ArrayLike:\n",
    "#     for column in matrix.T:\n",
    "#         ...\n",
    "#     return matrix\n",
    "\n",
    "matrix = ctc_out[0]\n",
    "target = ctc_gt[0,:ctc_gt_lengths[0]]\n",
    "\n",
    "beams = [\n",
    "    Beam(0, [0], np.log(matrix[0, 0])),\n",
    "    Beam(0, [0], np.log(matrix[0, target[0]]))\n",
    "]\n",
    "\n",
    "beams.sort(key=Beam.get_score, reverse=True)\n",
    "\n",
    "\n",
    "for column in matrix.T[1:]:\n",
    "    ...\n"
   ]
  }
 ],
 "metadata": {
  "kernelspec": {
   "display_name": "Python 3.9.7 ('thesis')",
   "language": "python",
   "name": "python3"
  },
  "language_info": {
   "codemirror_mode": {
    "name": "ipython",
    "version": 3
   },
   "file_extension": ".py",
   "mimetype": "text/x-python",
   "name": "python",
   "nbconvert_exporter": "python",
   "pygments_lexer": "ipython3",
   "version": "3.9.7"
  },
  "orig_nbformat": 4,
  "vscode": {
   "interpreter": {
    "hash": "31ca382502399d961906118af24a761fbf291943de24fbab3684f9ab031d6fa3"
   }
  }
 },
 "nbformat": 4,
 "nbformat_minor": 2
}
